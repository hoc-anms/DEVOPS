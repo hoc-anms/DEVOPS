{
 "cells": [
  {
   "cell_type": "markdown",
   "metadata": {},
   "source": [
    "# Using YANG to Model Junos Configuration as OpenConfig\n",
    "\n",
    "With configuration described using YANG, different models can be used to represent the configuration in different ways.  At commit time, translation scripts convert the modelled configuration into Junos natively modelled configuration before it is pushed out to the router daemons.\n",
    "\n",
    "One example of this is OpenConfig.\n",
    "\n",
    "You install OpenConfig on a router as follows:"
   ]
  },
  {
   "cell_type": "markdown",
   "metadata": {},
   "source": [
    "```\n",
    "scp junos-openconfig-x86-32-0.0.0.10-1.tgz ${ROUTER_IP}:/var/tmp\n",
    "\n",
    "danny@vmx-1> request system software add /var/tmp/junos-openconfig-x86-32-0.0.0.10-1.tgz \n",
    "NOTICE: Validating configuration against junos-openconfig-x86-32-0.0.0.10-1.tgz.\n",
    "NOTICE: Use the 'no-validate' option to skip this if desired.\n",
    "Verified junos-openconfig-x86-32-0.0.0.10-1 signed by PackageProductionEc_2018 method ECDSA256+SHA256\n",
    "<output removed>\n",
    "```"
   ]
  },
  {
   "cell_type": "markdown",
   "metadata": {},
   "source": [
    "You can then verify the package is installed by checking the YANG modules with:\n",
    "```show system yang package```"
   ]
  },
  {
   "cell_type": "code",
   "execution_count": null,
   "metadata": {},
   "outputs": [],
   "source": [
    "ROUTER = '172.12.1.2'\n",
    "!ssh $ROUTER 'show system yang package'"
   ]
  },
  {
   "cell_type": "markdown",
   "metadata": {},
   "source": [
    "Context sensitive help works with OpenConfig:\n",
    "```\n",
    "danny@vmx-1# set openconfig-?  \n",
    "Possible completions:\n",
    "> openconfig-bgp:bgp   Top-level configuration and state for the BGP router\n",
    "> openconfig-interfaces:interfaces  Top level container for interfaces, including configuration\n",
    "                       and state data.\n",
    "> openconfig-lacp:lacp  Configuration and operational state data for LACP protocol\n",
    "                       operation on the aggregate interface\n",
    "> openconfig-lldp:lldp  Top-level container for LLDP configuration and state data\n",
    "> openconfig-local-routing:local-routes  Top-level container for local routes\n",
    "> openconfig-mpls:mpls  Anchor point for mpls configuration and operational\n",
    "                       data\n",
    "> openconfig-network-instance:network-instances  The L2, L3, or L2+L3 forwarding instances that are\n",
    "                       configured on the local system\n",
    "> openconfig-platform:components  Enclosing container for the components in the system.\n",
    "> openconfig-routing-policy:routing-policy  Top-level container for all routing policy configuration\n",
    "> openconfig-terminal-device:terminal-device  Top-level container for the terminal device\n",
    "> openconfig-vlan:vlans  Container for VLAN configuration and state\n",
    "                       variables\n",
    "```"
   ]
  },
  {
   "cell_type": "markdown",
   "metadata": {},
   "source": [
    "You can now configure the router using OpenConfig style syntax instead of standard Juniper style syntax.\n",
    "\n",
    "To demonstrate this I have deactivated working BGP config:"
   ]
  },
  {
   "cell_type": "code",
   "execution_count": null,
   "metadata": {},
   "outputs": [],
   "source": [
    "! ssh $ROUTER 'show configuration protocols bgp'\n"
   ]
  },
  {
   "cell_type": "markdown",
   "metadata": {},
   "source": [
    "I have instead applied the same configuration in OpenConfig style:"
   ]
  },
  {
   "cell_type": "code",
   "execution_count": null,
   "metadata": {},
   "outputs": [],
   "source": [
    "! ssh $ROUTER 'show configuration openconfig-bgp:bgp'"
   ]
  },
  {
   "cell_type": "markdown",
   "metadata": {},
   "source": [
    "To see this as standard Juniper syntax you can use ```show configuration| display translation-scripts translated-config```"
   ]
  },
  {
   "cell_type": "code",
   "execution_count": null,
   "metadata": {},
   "outputs": [],
   "source": [
    "! ssh $ROUTER 'show configuration | display translation-scripts translated-config'"
   ]
  },
  {
   "cell_type": "markdown",
   "metadata": {},
   "source": [
    "You can see that the translated config looks exactly the same as the native deactivated config.  You can also see that BGP sessions are up and operational even though there is no active BGP configuration underneath ```protocols bgp```.  The BGP config is coming from ```openconfig-bgp:bgp``` instead."
   ]
  },
  {
   "cell_type": "code",
   "execution_count": null,
   "metadata": {},
   "outputs": [],
   "source": [
    "!ssh $ROUTER 'show bgp summary'"
   ]
  },
  {
   "cell_type": "code",
   "execution_count": null,
   "metadata": {},
   "outputs": [],
   "source": []
  }
 ],
 "metadata": {
  "kernelspec": {
   "display_name": "Python 3.8.10 64-bit",
   "language": "python",
   "name": "python3"
  },
  "language_info": {
   "codemirror_mode": {
    "name": "ipython",
    "version": 3
   },
   "file_extension": ".py",
   "mimetype": "text/x-python",
   "name": "python",
   "nbconvert_exporter": "python",
   "pygments_lexer": "ipython3",
   "version": "3.8.10"
  },
  "vscode": {
   "interpreter": {
    "hash": "aee8b7b246df8f9039afb4144a1f6fd8d2ca17a180786b69acc140d282b71a49"
   }
  }
 },
 "nbformat": 4,
 "nbformat_minor": 2
}
