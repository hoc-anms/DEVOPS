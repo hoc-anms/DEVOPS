{
 "cells": [
  {
   "cell_type": "markdown",
   "metadata": {},
   "source": [
    "# Juniper Extension Toolkit (JET)\n",
    "\n",
    "In this section will we take a look at the notification API that is provided by JET.  The notification API uses MQTT to send information about events that a client is subscribed to.\n",
    "\n",
    "To use the notification API you first need to enable it:\n",
    "```\n",
    "set system services extension-service notification port 1883\n",
    "set system services extension-service notification allow-clients address 172.12.1.1/32\n",
    "```\n"
   ]
  },
  {
   "cell_type": "markdown",
   "metadata": {},
   "source": [
    "With the service enabled we can quickly take a look at events emitted by the device.  An easy way to do this is to use an MQTT application such as Mosquitto.  On my Ubuntu system I installed it like this:```apt-get install mosquitto-clients```\n",
    "\n",
    "Now let's use this client to see events coming from the device.  ```#``` in MQTT is a wildcard so the below command is subscribing to all events.\n",
    "\n"
   ]
  },
  {
   "cell_type": "code",
   "execution_count": null,
   "metadata": {},
   "outputs": [],
   "source": [
    "ROUTER = '172.12.1.2'\n",
    "!mosquitto_sub -h  $ROUTER -t \\#"
   ]
  },
  {
   "cell_type": "markdown",
   "metadata": {},
   "source": [
    "We can get more specific about the type of event we are interested in, in this case we're now subscribing to all interface events.  If we bounce an interface on the remote device, we can see the event reported:"
   ]
  },
  {
   "cell_type": "code",
   "execution_count": null,
   "metadata": {},
   "outputs": [],
   "source": [
    "!mosquitto_sub -h  $ROUTER -t /junos/events/kernel/interfaces/\\#"
   ]
  },
  {
   "cell_type": "markdown",
   "metadata": {},
   "source": [
    "JET provides Python libraries to easily handle these events in a programmatic manner.  The below script is a cut down version of:  https://www.juniper.net/documentation/en_US/jet16.2/topics/reference/jet-notification-app.html <br> It demonstrates how to subscribe to events via the notification API.\n",
    "\n",
    "To install the JET libraries, follow the instructions here: <br> https://www.juniper.net/documentation/en_US/jet16.2/topics/task/jet-downloading-and-installing-python-client-package.html"
   ]
  },
  {
   "cell_type": "code",
   "execution_count": null,
   "metadata": {},
   "outputs": [],
   "source": [
    "import time\n",
    "from jnpr.jet.JetHandler import *\n",
    "\n",
    "# Default Settings\n",
    "OPEN_TIME = 300\n",
    "SOURCE_ADDRESS = '172.12.1.1'\n",
    "MQTT_SERVER = '172.12.1.2'\n",
    "MQTT_PORT = '1883'\n",
    "IFD_EXAMPLE = \"ge-0/0/0\"\n",
    "\n",
    "# Define handler functions\n",
    "def handle_example(message):\n",
    "    print(\"\"\"\n",
    "    Event regarding ge-0/0/0 detected.\n",
    "    Put your code to react to the event here.\n",
    "    You can use parameters in the JSON message in your code:\n",
    "    \"\"\")\n",
    "    print(\"Event Received : \" + message['jet-event']['event-id'])\n",
    "    print(\"Attributes : \", message['jet-event']['attributes'])\n",
    "    return\n",
    "\n",
    "\n",
    "def Main():\n",
    "    try:\n",
    "        # Create a client handler for connecting to server\n",
    "        client = JetHandler()\n",
    "        # open session with MQTT server\n",
    "        evHandle = client.OpenNotificationSession(device=MQTT_SERVER, port=MQTT_PORT, bind_address=SOURCE_ADDRESS)\n",
    "        ifdtopic = evHandle.CreateIFDTopic(op=evHandle.ALL, ifd_name=IFD_EXAMPLE)\n",
    "        # Subscribe for events\n",
    "        print(\"Subscribing to notifications\")\n",
    "        print('=' * 60)\n",
    "        evHandle.Subscribe(ifdtopic, handle_example)\n",
    "        # Wait for a period of time to receive events\n",
    "        time.sleep(OPEN_TIME)\n",
    "        # Unsubscribe events\n",
    "        print(\"Unsubscribe from all the event notifications\")\n",
    "        evHandle.Unsubscribe()\n",
    "        # Close session\n",
    "        print(\"Closing the Client\")\n",
    "        client.CloseNotificationSession()\n",
    "\n",
    "    except Exception, tx:\n",
    "        print(tx.message)\n",
    "\n",
    "\n",
    "    return\n",
    "\n",
    "if __name__ == '__main__':\n",
    "    Main()\n"
   ]
  },
  {
   "cell_type": "code",
   "execution_count": null,
   "metadata": {},
   "outputs": [],
   "source": []
  }
 ],
 "metadata": {
  "kernelspec": {
   "display_name": "Python 2",
   "language": "python",
   "name": "python2"
  },
  "language_info": {
   "codemirror_mode": {
    "name": "ipython",
    "version": 2
   },
   "file_extension": ".py",
   "mimetype": "text/x-python",
   "name": "python",
   "nbconvert_exporter": "python",
   "pygments_lexer": "ipython2",
   "version": "2.7.15rc1"
  }
 },
 "nbformat": 4,
 "nbformat_minor": 2
}
