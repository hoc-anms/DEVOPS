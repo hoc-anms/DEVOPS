{
 "cells": [
  {
   "cell_type": "markdown",
   "metadata": {},
   "source": [
    "# Jinja2 and Ansible"
   ]
  },
  {
   "cell_type": "markdown",
   "metadata": {},
   "source": [
    "This notebook demonstrates how jinja2 templates use loops and flow control and is combined with variables to generate expanded text.  Our example jinja2 template is loaded from a configuration file, as are the variables, which are stored in YAML format.\n",
    "\n",
    "We are going to be generating a very simple chunk of logical-systems configuration.\n",
    "\n",
    "Once we have worked through jinja2 syntax, we will run the ansible playbook: ```Section-5_ansible/apply_j2_config.yml``` to show it in action.  Let's take a quick look at those text files:"
   ]
  },
  {
   "cell_type": "code",
   "execution_count": null,
   "metadata": {},
   "outputs": [],
   "source": [
    "# Variables\n",
    "!cat ./Section-5_ansible/group_vars/VMX.yml"
   ]
  },
  {
   "cell_type": "markdown",
   "metadata": {},
   "source": [
    "As you can see we have a nested dictionary in YAML format, containing all the variables we will later combine with a Jinja2 template.  Now let's look at the template:"
   ]
  },
  {
   "cell_type": "code",
   "execution_count": null,
   "metadata": {},
   "outputs": [],
   "source": [
    "# Jinja2 Template\n",
    "!cat ./Section-5_ansible/logical_systems.j2"
   ]
  },
  {
   "cell_type": "markdown",
   "metadata": {},
   "source": [
    "Examining some of the aspects of Jinja2:<ul>\n",
    "    <li>Flow control and loop structures are enclosed in ```{% %}```.</li>\n",
    "    <li>Variables are substituted by enclosing the variable name in ```{{  }}```.</li>\n",
    "    <li>When accessing elements in a nested data structure the syntax is similar to python i.e. you enclose the item you are querying in ```[ ]```</li>\n",
    "    <li>Custom filters e.g. ```|upper``` in this example can be used to transform data.  When working with strings you have filters available that are similar to string methods in Python</li>\n",
    "    <li>You close for loops with ```{% endfor %}```</li>\n",
    "    <li>You close if statements with ```{% endif %}```</li></ul>\n",
    "    \n",
    "    \n"
   ]
  },
  {
   "cell_type": "markdown",
   "metadata": {},
   "source": [
    "Now lets put this in to practice.  We are going to use functions from the jinja2 and yaml libraries to load our templates and variables into a script and render them together to output a finished document:\n",
    "\n",
    "In the example below, we perform the following steps:\n",
    "<ol>\n",
    "    <li>Import the jinja2 and yaml libraries</li>\n",
    "    <li>Load the jinja2 template from a text file</li>\n",
    "    <li>Instantiate a template object from the template text using the Template() class from the Jinja2 library</li>\n",
    "    <li>Load variables from a YAML text file</li>\n",
    "    <li>Render the template with the variables we obtained from the YAML file</li>\n",
    "</ol>"
   ]
  },
  {
   "cell_type": "code",
   "execution_count": null,
   "metadata": {},
   "outputs": [],
   "source": [
    "import jinja2\n",
    "import yaml\n",
    "\n",
    "with open('./Section-5_ansible/group_vars/VMX.yml') as fh:\n",
    "    yaml_vars = yaml.load(fh.read())\n",
    "    \n",
    "with open('./Section-5_ansible/logical_systems.j2') as fh:\n",
    "    jinja2_template = jinja2.Template(fh.read())\n",
    "\n",
    "\n",
    "print(jinja2_template.render(yaml_vars['variables']))"
   ]
  },
  {
   "cell_type": "markdown",
   "metadata": {},
   "source": [
    "In the next section we will use Ansible to push configuration to a Juniper device using these variables and templates."
   ]
  },
  {
   "cell_type": "code",
   "execution_count": null,
   "metadata": {},
   "outputs": [],
   "source": []
  }
 ],
 "metadata": {
  "kernelspec": {
   "display_name": "Python 3",
   "language": "python",
   "name": "python3"
  },
  "language_info": {
   "codemirror_mode": {
    "name": "ipython",
    "version": 3
   },
   "file_extension": ".py",
   "mimetype": "text/x-python",
   "name": "python",
   "nbconvert_exporter": "python",
   "pygments_lexer": "ipython3",
   "version": "3.6.7"
  }
 },
 "nbformat": 4,
 "nbformat_minor": 2
}
