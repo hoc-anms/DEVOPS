{
 "cells": [
  {
   "cell_type": "markdown",
   "metadata": {},
   "source": [
    "# JSNAPy \n",
    "\n",
    "JSNAPy is a Juniper tool used to check whether or not the status of a network device has changed.  \n",
    "\n",
    "It can be used to regularly check the health of deployed devices against known good states or it could be used to check the status of a device before and after a maintainance window.  That way you can easily check to make sure there have been no unforseen side effects caused by your maintainance."
   ]
  },
  {
   "cell_type": "markdown",
   "metadata": {},
   "source": [
    "It can be used, either as a standalone CLI based tool or within a Python script.  You use it as a standalone tool as follows:"
   ]
  },
  {
   "cell_type": "code",
   "execution_count": null,
   "metadata": {},
   "outputs": [],
   "source": [
    "# Configuration\n",
    "# Here you specify the devices you want to inspect and the tests you want to run\n",
    "!cat ./Video3_JSNAPy/config.yml"
   ]
  },
  {
   "cell_type": "code",
   "execution_count": null,
   "metadata": {},
   "outputs": [],
   "source": [
    "# Tests\n",
    "# The first test compares software versions before and after.  It uses a CLI command to get the device data\n",
    "!cat ./Video3_JSNAPy/check_sw_ver.yml\n",
    "# The second test checks that all BGP sessions are Established. It uses an RPC call to get the device data\n",
    "!cat ./Video3_JSNAPy/check_bgp_nei.yml\n",
    "# There are many different operators availale"
   ]
  },
  {
   "cell_type": "markdown",
   "metadata": {},
   "source": [
    "Once the tests have been configured you take a first snapshot:"
   ]
  },
  {
   "cell_type": "code",
   "execution_count": null,
   "metadata": {},
   "outputs": [],
   "source": [
    "!jsnapy -v --snap pre_maintainance -f ./Video3_JSNAPy/config.yml"
   ]
  },
  {
   "cell_type": "markdown",
   "metadata": {},
   "source": [
    "Then you perform the maintainance as normal, once you are finished you take a second snapshot."
   ]
  },
  {
   "cell_type": "code",
   "execution_count": null,
   "metadata": {},
   "outputs": [],
   "source": [
    "!jsnapy -v --snap post_maintainance -f ./Video3_JSNAPy/config.yml"
   ]
  },
  {
   "cell_type": "markdown",
   "metadata": {},
   "source": [
    "You can then compare the snapshots, if any tests fail you will be notified."
   ]
  },
  {
   "cell_type": "code",
   "execution_count": null,
   "metadata": {},
   "outputs": [],
   "source": [
    "!jsnapy --check  pre_maintainance post_maintainance -f ./Video3_JSNAPy/config.yml "
   ]
  },
  {
   "cell_type": "markdown",
   "metadata": {},
   "source": [
    "## JSNAPy in a Python Script\n",
    "\n",
    "If you wanted to combine pushing configuration via automation with JSNAPy pre and post checks, you can do this with the JSNAPy libraries:"
   ]
  },
  {
   "cell_type": "code",
   "execution_count": null,
   "metadata": {},
   "outputs": [],
   "source": [
    "from pprint import pprint\n",
    "from jnpr.jsnapy import SnapAdmin\n",
    "\n",
    "with open('./Video3_JSNAPy/config.yml') as fh:\n",
    "    jsnapy_config = fh.read()\n",
    "\n",
    "js = SnapAdmin()\n",
    "js.snap(jsnapy_config, 'py_pre')\n",
    "# You could insert your maintainance code here\n",
    "js.snap(jsnapy_config, 'py_post')\n",
    "\n",
    "snapchk = js.check(jsnapy_config, pre_file='py_pre', post_file='py_post')\n",
    "\n",
    "for val in snapchk:\n",
    "    pprint(dict(val.test_details))\n",
    "    # You can easily take automated actions based on what the results of the tests were"
   ]
  },
  {
   "cell_type": "code",
   "execution_count": null,
   "metadata": {},
   "outputs": [],
   "source": []
  }
 ],
 "metadata": {
  "kernelspec": {
   "display_name": "Python 3",
   "language": "python",
   "name": "python3"
  },
  "language_info": {
   "codemirror_mode": {
    "name": "ipython",
    "version": 3
   },
   "file_extension": ".py",
   "mimetype": "text/x-python",
   "name": "python",
   "nbconvert_exporter": "python",
   "pygments_lexer": "ipython3",
   "version": "3.6.7"
  }
 },
 "nbformat": 4,
 "nbformat_minor": 2
}
