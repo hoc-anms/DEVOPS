{
 "cells": [
  {
   "cell_type": "markdown",
   "metadata": {},
   "source": [
    "# JSNAPy \n",
    "\n",
    "JSNAPy is a Juniper tool used to check whether or not the status of a network device has changed.  \n",
    "\n",
    "It can be used to regularly check the health of deployed devices against known good states or it could be used to check the status of a device before and after a maintainance window.  That way you can easily check to make sure there have been no unforseen side effects caused by your maintainance."
   ]
  },
  {
   "cell_type": "markdown",
   "metadata": {},
   "source": [
    "It can be used, either as a standalone CLI based tool or within a Python script.  You use it as a standalone tool as follows:"
   ]
  },
  {
   "cell_type": "code",
   "execution_count": 1,
   "metadata": {},
   "outputs": [
    {
     "name": "stdout",
     "output_type": "stream",
     "text": [
      "hosts:\n",
      "  - device: '172.12.1.2'\n",
      "    username: netconf\n",
      "    passwd: netconf123\n",
      "tests:\n",
      "  - ./Section-3_JSNAPy/check_sw_ver.yml\n",
      "  - ./Section-3_JSNAPy/check_bgp_nei.yml\n"
     ]
    }
   ],
   "source": [
    "# Configuration\n",
    "# Here you specify the devices you want to inspect and the tests you want to run\n",
    "!cat ./Section-3_JSNAPy/config.yml"
   ]
  },
  {
   "cell_type": "code",
   "execution_count": 2,
   "metadata": {},
   "outputs": [
    {
     "name": "stdout",
     "output_type": "stream",
     "text": [
      "---\n",
      "test_sw_version:\n",
      "  - command: show version\n",
      "  - item: \n",
      "      xpath: '//software-information/package-information'\n",
      "      tests:\n",
      "        - all-same: comment\n",
      "          err: \"Test failed. <{{pre['comment']}}> not equal to <{{post['comment']}}>\"\n",
      "          info: \"Success, versions are equal\"\n",
      "---\n",
      "test_bgp_nei:\n",
      "  - rpc: get-bgp-neighbor-information\n",
      "  - iterate:\n",
      "      xpath: '//bgp-information/bgp-peer'\n",
      "      tests:\n",
      "        - is-equal: peer-state, Established     \n",
      "          err: \"BGP neighbour issue detected. {{pre['peer-address']}}. State was: {{pre['peer-state']}}. Now state is {{post['peer-state']}}\"\n"
     ]
    }
   ],
   "source": [
    "# Tests\n",
    "# The first test compares software versions before and after.  It uses a CLI command to get the device data\n",
    "!cat ./Section-3_JSNAPy/check_sw_ver.yml\n",
    "# The second test checks that all BGP sessions are Established. It uses an RPC call to get the device data\n",
    "!cat ./Section-3_JSNAPy/check_bgp_nei.yml\n",
    "# There are many different operators availale"
   ]
  },
  {
   "cell_type": "markdown",
   "metadata": {},
   "source": [
    "Once the tests have been configured you take a first snapshot:"
   ]
  },
  {
   "cell_type": "code",
   "execution_count": 3,
   "metadata": {},
   "outputs": [
    {
     "name": "stdout",
     "output_type": "stream",
     "text": [
      "Traceback (most recent call last):\n",
      "\u001b[0m  File \"/opt/anaconda3/bin/jsnapy\", line 8, in <module>\n",
      "\u001b[0m    \u001b[0msys.exit(main())\u001b[0m\n",
      "\u001b[0m  File \"/opt/anaconda3/lib/python3.9/site-packages/jnpr/jsnapy/jsnapy.py\", line 1114, in main\n",
      "\u001b[0m    \u001b[0mjs = SnapAdmin()\u001b[0m\n",
      "\u001b[0m  File \"/opt/anaconda3/lib/python3.9/site-packages/jnpr/jsnapy/jsnapy.py\", line 44, in __init__\n",
      "\u001b[0m    \u001b[0msetup_logging.setup_logging()\u001b[0m\n",
      "\u001b[0m  File \"/opt/anaconda3/lib/python3.9/site-packages/jnpr/jsnapy/setup_logging.py\", line 20, in setup_logging\n",
      "\u001b[0m    \u001b[0mconfig_location = get_config_location(\"logging.yml\")\u001b[0m\n",
      "\u001b[0m  File \"/opt/anaconda3/lib/python3.9/site-packages/jnpr/jsnapy/__init__.py\", line 65, in get_config_location\n",
      "\u001b[0m    \u001b[0mraise FileNotFoundError(\"Could not locate %s\" % file)\u001b[0m\n",
      "\u001b[0mFileNotFoundError\u001b[0m: \u001b[0mCould not locate logging.yml\u001b[0m\n",
      "\u001b[0m\u001b[0m"
     ]
    }
   ],
   "source": [
    "!jsnapy -v --snap pre_maintainance -f ./Section-3_JSNAPy/config.yml"
   ]
  },
  {
   "cell_type": "markdown",
   "metadata": {},
   "source": [
    "Then you perform the maintainance as normal, once you are finished you take a second snapshot."
   ]
  },
  {
   "cell_type": "code",
   "execution_count": null,
   "metadata": {},
   "outputs": [],
   "source": [
    "!jsnapy -v --snap post_maintainance -f ./Section-3_JSNAPy/config.yml"
   ]
  },
  {
   "cell_type": "markdown",
   "metadata": {},
   "source": [
    "You can then compare the snapshots, if any tests fail you will be notified."
   ]
  },
  {
   "cell_type": "code",
   "execution_count": null,
   "metadata": {},
   "outputs": [],
   "source": [
    "!jsnapy --check  pre_maintainance post_maintainance -f ./Section-3_JSNAPy/config.yml "
   ]
  },
  {
   "cell_type": "markdown",
   "metadata": {},
   "source": [
    "## JSNAPy in a Python Script\n",
    "\n",
    "If you wanted to combine pushing configuration via automation with JSNAPy pre and post checks, you can do this with the JSNAPy libraries:"
   ]
  },
  {
   "cell_type": "code",
   "execution_count": 1,
   "metadata": {},
   "outputs": [
    {
     "ename": "ModuleNotFoundError",
     "evalue": "No module named 'jnpr.jsnapy'",
     "output_type": "error",
     "traceback": [
      "\u001b[0;31m---------------------------------------------------------------------------\u001b[0m",
      "\u001b[0;31mModuleNotFoundError\u001b[0m                       Traceback (most recent call last)",
      "\u001b[1;32m/Users/hocpv/Works/Practice/DEVOPS/Documents/JNCIS/source/Section-3_JSNAPy.ipynb Cell 12\u001b[0m in \u001b[0;36m<cell line: 2>\u001b[0;34m()\u001b[0m\n\u001b[1;32m      <a href='vscode-notebook-cell:/Users/hocpv/Works/Practice/DEVOPS/Documents/JNCIS/source/Section-3_JSNAPy.ipynb#X14sZmlsZQ%3D%3D?line=0'>1</a>\u001b[0m \u001b[39mfrom\u001b[39;00m \u001b[39mpprint\u001b[39;00m \u001b[39mimport\u001b[39;00m pprint\n\u001b[0;32m----> <a href='vscode-notebook-cell:/Users/hocpv/Works/Practice/DEVOPS/Documents/JNCIS/source/Section-3_JSNAPy.ipynb#X14sZmlsZQ%3D%3D?line=1'>2</a>\u001b[0m \u001b[39mfrom\u001b[39;00m \u001b[39mjnpr\u001b[39;00m\u001b[39m.\u001b[39;00m\u001b[39mjsnapy\u001b[39;00m \u001b[39mimport\u001b[39;00m SnapAdmin\n\u001b[1;32m      <a href='vscode-notebook-cell:/Users/hocpv/Works/Practice/DEVOPS/Documents/JNCIS/source/Section-3_JSNAPy.ipynb#X14sZmlsZQ%3D%3D?line=3'>4</a>\u001b[0m \u001b[39mwith\u001b[39;00m \u001b[39mopen\u001b[39m(\u001b[39m'\u001b[39m\u001b[39m./Section-3_JSNAPy/config.yml\u001b[39m\u001b[39m'\u001b[39m) \u001b[39mas\u001b[39;00m fh:\n\u001b[1;32m      <a href='vscode-notebook-cell:/Users/hocpv/Works/Practice/DEVOPS/Documents/JNCIS/source/Section-3_JSNAPy.ipynb#X14sZmlsZQ%3D%3D?line=4'>5</a>\u001b[0m     jsnapy_config \u001b[39m=\u001b[39m fh\u001b[39m.\u001b[39mread()\n",
      "\u001b[0;31mModuleNotFoundError\u001b[0m: No module named 'jnpr.jsnapy'"
     ]
    }
   ],
   "source": [
    "from pprint import pprint\n",
    "from jnpr.jsnapy import SnapAdmin\n",
    "\n",
    "with open('./Section-3_JSNAPy/config.yml') as fh:\n",
    "    jsnapy_config = fh.read()\n",
    "\n",
    "js = SnapAdmin()\n",
    "js.snap(jsnapy_config, 'py_pre')\n",
    "# You could insert your maintainance code here\n",
    "js.snap(jsnapy_config, 'py_post')\n",
    "\n",
    "snapchk = js.check(jsnapy_config, pre_file='py_pre', post_file='py_post')\n",
    "\n",
    "for val in snapchk:\n",
    "    pprint(dict(val.test_details))\n",
    "    # You can easily take automated actions based on what the results of the tests were"
   ]
  },
  {
   "cell_type": "code",
   "execution_count": null,
   "metadata": {},
   "outputs": [],
   "source": []
  }
 ],
 "metadata": {
  "kernelspec": {
   "display_name": "Python 3.9.12 ('base')",
   "language": "python",
   "name": "python3"
  },
  "language_info": {
   "codemirror_mode": {
    "name": "ipython",
    "version": 3
   },
   "file_extension": ".py",
   "mimetype": "text/x-python",
   "name": "python",
   "nbconvert_exporter": "python",
   "pygments_lexer": "ipython3",
   "version": "3.9.12"
  },
  "vscode": {
   "interpreter": {
    "hash": "40d3a090f54c6569ab1632332b64b2c03c39dcf918b08424e98f38b5ae0af88f"
   }
  }
 },
 "nbformat": 4,
 "nbformat_minor": 2
}
