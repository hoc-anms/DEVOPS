{
 "cells": [
  {
   "cell_type": "markdown",
   "metadata": {},
   "source": [
    "# Python\n",
    "\n",
    "In this section we will be examining how you can use YAML tables and views to structure the data you receive from a router using PyEZ.  Some people find this easier to handle than native XML.\n",
    "<br><br>\n",
    "We will also take a look at how you can push configuration to a router using Junos PyEZ.  This example will also explore how to handle exceptions."
   ]
  },
  {
   "cell_type": "markdown",
   "metadata": {},
   "source": [
    "## Junos PyEZ tables & Views"
   ]
  },
  {
   "cell_type": "markdown",
   "metadata": {},
   "source": [
    "The Junos PyEZ libraries come with lots of tables and views built in.  You can use these to structure your data or you can use them as templates to build your own. \n",
    "\n",
    "(Junos PyEZ libraries might be installed in a different location on your system than the one given in the example below.  You can find where python is loading the files from by loading the python interpreter in verbose mode e.g.:```python3 -v``` and then importing the table e.g. ```from jnpr.junos.op.arp import ArpTable```)\n"
   ]
  },
  {
   "cell_type": "code",
   "execution_count": null,
   "metadata": {},
   "outputs": [],
   "source": []
  },
  {
   "cell_type": "code",
   "execution_count": 15,
   "metadata": {},
   "outputs": [
    {
     "ename": "ModuleNotFoundError",
     "evalue": "No module named 'jnpr'",
     "output_type": "error",
     "traceback": [
      "\u001b[0;31m---------------------------------------------------------------------------\u001b[0m",
      "\u001b[0;31mModuleNotFoundError\u001b[0m                       Traceback (most recent call last)",
      "\u001b[1;32m/Users/hocpv/Works/Practice/DEVOPS/Documents/JNCIS/source/Section-4_Python.ipynb Cell 4\u001b[0m in \u001b[0;36m<cell line: 1>\u001b[0;34m()\u001b[0m\n\u001b[0;32m----> <a href='vscode-notebook-cell:/Users/hocpv/Works/Practice/DEVOPS/Documents/JNCIS/source/Section-4_Python.ipynb#X14sZmlsZQ%3D%3D?line=0'>1</a>\u001b[0m \u001b[39mfrom\u001b[39;00m \u001b[39mjnpr\u001b[39;00m\u001b[39m.\u001b[39;00m\u001b[39mjunos\u001b[39;00m \u001b[39mimport\u001b[39;00m Device\n\u001b[1;32m      <a href='vscode-notebook-cell:/Users/hocpv/Works/Practice/DEVOPS/Documents/JNCIS/source/Section-4_Python.ipynb#X14sZmlsZQ%3D%3D?line=1'>2</a>\u001b[0m \u001b[39mfrom\u001b[39;00m \u001b[39mjnpr\u001b[39;00m\u001b[39m.\u001b[39;00m\u001b[39mjunos\u001b[39;00m\u001b[39m.\u001b[39;00m\u001b[39mop\u001b[39;00m\u001b[39m.\u001b[39;00m\u001b[39marp\u001b[39;00m \u001b[39mimport\u001b[39;00m ArpTable\n",
      "\u001b[0;31mModuleNotFoundError\u001b[0m: No module named 'jnpr'"
     ]
    }
   ],
   "source": [
    "from jnpr.junos import Device\n",
    "from jnpr.junos.op.arp import ArpTable"
   ]
  },
  {
   "cell_type": "code",
   "execution_count": 11,
   "metadata": {},
   "outputs": [
    {
     "name": "stdout",
     "output_type": "stream",
     "text": [
      "arp.yml bfd.yml bgp.yml ccc.yml ddos.yml elsethernetswitchingtable.yml ethernetswitchingtable.yml ethport.yml fpc.yml idpattacks.yml intopticdiag.yml inventory.yml isis.yml l2circuit.yml lacp.yml ldp.yml lldp.yml nd.yml ospf.yml pfestats.yml phyport.yml ppm.yml routes.yml securityzone.yml systemstorage.yml taskmemory.yml teddb.yml vlan.yml xcvr.yml\n"
     ]
    }
   ],
   "source": [
    "!ls ~/Works/Practice/DEVOPS/Documents/JNCIS/source/venv/lib/python3.9/site-packages/jnpr/junos/op | grep yml | xargs"
   ]
  },
  {
   "cell_type": "code",
   "execution_count": 13,
   "metadata": {},
   "outputs": [
    {
     "name": "stdout",
     "output_type": "stream",
     "text": [
      "---\n",
      "ArpTable:\n",
      "  rpc: get-arp-table-information\n",
      "  args:\n",
      "     no-resolve: True\n",
      "  item: arp-table-entry\n",
      "  key: mac-address\n",
      "  view: ArpView\n",
      "\n",
      "ArpView:\n",
      "  fields:\n",
      "    mac_address: mac-address\n",
      "    ip_address: ip-address\n",
      "    interface_name: interface-name\n"
     ]
    }
   ],
   "source": [
    "!cat ~/Works/Practice/DEVOPS/Documents/JNCIS/source/venv/lib/python3.9/site-packages/jnpr/junos/op/arp.yml"
   ]
  },
  {
   "cell_type": "markdown",
   "metadata": {},
   "source": [
    "The table contains the RPC call to use to get the information we want.<br>\n",
    "The view contains the fields from the RPC call we are interested in.<br>\n",
    "\n",
    "Let's now use the ARP table and view shown above to structure and process some data.<br>\n",
    "We connect to a router using Junos PyEZ as normal, then we instantiate an object from the ArpTable class we've imported and issue the ```.get()``` method on it to populate it with data.<br>\n",
    "\n",
    "We can then iterate over the object and view the data within it.\n"
   ]
  },
  {
   "cell_type": "code",
   "execution_count": null,
   "metadata": {},
   "outputs": [
    {
     "ename": "",
     "evalue": "",
     "output_type": "error",
     "traceback": [
      "\u001b[1;31mRunning cells with 'Python 3.9.12 ('venv': venv)' requires ipykernel package.\n",
      "\u001b[1;31mRun the following command to install 'ipykernel' into the Python environment. \n",
      "\u001b[1;31mCommand: '/Users/hocpv/Works/Practice/DEVOPS/Documents/JNCIS/source/venv/bin/python -m pip install ipykernel -U --force-reinstall'"
     ]
    }
   ],
   "source": [
    "from jnpr.junos import Device\n",
    "from jnpr.junos.op.arp import ArpTable\n",
    "\n",
    "# Define variables\n",
    "UID = 'netconf'\n",
    "PWD = 'netconf123'\n",
    "ROUTER = '172.12.1.2'\n",
    "\n",
    "# Instantiate a device object\n",
    "with Device(host=ROUTER, password=PWD, user=UID, normalize=True) as dev:\n",
    "    # instantiate a table object\n",
    "    arp = ArpTable(dev)\n",
    "    # Populate the object \n",
    "    arp.get()\n",
    "    # Iterate over the items contained in the object \n",
    "    for mac in arp:\n",
    "        print(\"{}: {}  {}\".format(mac.mac_address, mac.ip_address, mac.interface_name))"
   ]
  },
  {
   "cell_type": "markdown",
   "metadata": {},
   "source": [
    "## Using Junos PyEZ to Push Configuration\n",
    "\n",
    "Here we will use a small script to demonstrate how you can push configuration to Junos devices using Junos PyEZ.\n",
    "\n",
    "You connect to the remote device as normal.  You then instantiate a configuration object from the Config() class.  Configuration (in several different formats e.g. set, text, xml, & jinja2) can then be applied.\n",
    "\n",
    "Once the configuration has been applied you can check the config diff and commit it as you would if connected via the CLI.\n",
    "\n",
    "When you are writing Junos PyEZ scripts you will need to write error handling to capture exceptions you could encounter. Without exception handling, errors could lead to your script exiting before it's complete.  For example, say you are pushing configuration to many devices and a few are down for maintainance.  You don't want the script to exit when you encounter one of the down routers.\n",
    "\n",
    "We use a try/except block to capture 2 common connection errors and if these errors are encountered the router is skipped and we move onto the next.\n",
    "\n",
    "Be sure to be explicit when you capture exceptions as you don't want to ignore other types of errors that have occured upstream."
   ]
  },
  {
   "cell_type": "code",
   "execution_count": null,
   "metadata": {},
   "outputs": [],
   "source": [
    "import sys\n",
    "from jnpr.junos import Device\n",
    "from jnpr.junos.utils.config import Config\n",
    "from jnpr.junos.exception import (ConnectAuthError, ConnectRefusedError)\n",
    "\n",
    "# Define variables\n",
    "UID = 'netconf'\n",
    "PWD = 'netconf123'\n",
    "ROUTERS = ['172.12.1.1']\n",
    "CONFIG=\"set system name-server 192.0.2.2\"\n",
    "\n",
    "# Iterate over the ROUTERS list\n",
    "for router in ROUTERS:\n",
    "    print(\"=\" * 60)\n",
    "    # Try / except block to capture 2 connectivity errors\n",
    "    try:\n",
    "        with Device(host=router, password=PWD, user=UID, normalize=True) as dev:\n",
    "            print(\"connected to: {}\\n\".format(router))\n",
    "            # Instantiate a config object\n",
    "            with Config(dev) as conf_obj:\n",
    "                # Load the changes into candidate configuration\n",
    "                conf_obj.load(CONFIG, format='set')\n",
    "                # Output the resulting configuration changes\n",
    "                config_diff = conf_obj.diff().replace('+', '\\n')\n",
    "                print(\"The changes are: {}\\n\".format(config_diff))\n",
    "                # Commit the changes\n",
    "                conf_obj.commit()\n",
    "                print(\"changes have been commited\")\n",
    "    except ConnectAuthError:\n",
    "        print(\"Connection authentication error to: {}.  Skipping this device\".format(router))\n",
    "        continue\n",
    "    except ConnectRefusedError:\n",
    "        print(\"Connection refused to: {}.  Skipping this device\".format(router))\n",
    "        continue\n",
    "    except Exception as message:\n",
    "        print(\"Caught another exception, exiting.  It was:\")\n",
    "        print(message)\n",
    "        sys.exit()\n",
    "    "
   ]
  },
  {
   "cell_type": "code",
   "execution_count": null,
   "metadata": {},
   "outputs": [],
   "source": []
  },
  {
   "cell_type": "code",
   "execution_count": null,
   "metadata": {},
   "outputs": [],
   "source": []
  }
 ],
 "metadata": {
  "kernelspec": {
   "display_name": "Python 3.9.12 ('base')",
   "language": "python",
   "name": "python3"
  },
  "language_info": {
   "codemirror_mode": {
    "name": "ipython",
    "version": 3
   },
   "file_extension": ".py",
   "mimetype": "text/x-python",
   "name": "python",
   "nbconvert_exporter": "python",
   "pygments_lexer": "ipython3",
   "version": "3.9.12"
  },
  "vscode": {
   "interpreter": {
    "hash": "40d3a090f54c6569ab1632332b64b2c03c39dcf918b08424e98f38b5ae0af88f"
   }
  }
 },
 "nbformat": 4,
 "nbformat_minor": 2
}
