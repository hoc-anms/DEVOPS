{
 "cells": [
  {
   "cell_type": "markdown",
   "metadata": {},
   "source": [
    "Installing the ruby kernel for Jupyter notebooks:\n",
    "\n",
    "https://github.com/SciRuby/iruby\n"
   ]
  },
  {
   "cell_type": "markdown",
   "metadata": {},
   "source": [
    "https://github.com/Juniper/ruby-junos-ez-stdlib\n",
    "\n",
    "https://forums.juniper.net/t5/Automation/Expert-Advice-Quickstart-in-Ruby-for-Junos-Automation/ta-p/279286"
   ]
  },
  {
   "cell_type": "markdown",
   "metadata": {},
   "source": [
    "## Variables and assignment\n",
    "\n",
    "Syntax here is pretty similar to python.  However there are some key differences.  Strings in Ruby are mutable, that is they can be changed after they've been defined.  This makes them unsuitable in certain scenarios, for example when they are used as keys for dictionaries.  Symbols are immutable strings (there are other differences too).\n",
    "\n",
    "Strings tend to be used to store general data and symbols are used when the data contained is needed in a programatic context, i.e. to be used as keys to access other data structures."
   ]
  },
  {
   "cell_type": "code",
   "execution_count": null,
   "metadata": {},
   "outputs": [],
   "source": [
    "a = \"Hello World\"\n",
    "puts(\"'a' contains **#{a}**, is a: #{a.class}\")"
   ]
  },
  {
   "cell_type": "code",
   "execution_count": null,
   "metadata": {},
   "outputs": [],
   "source": [
    "a << \", Hello Universe!!\"\n",
    "puts(\"'a' contains **#{a}**\")\n",
    "\n",
    "a = :HelloWorld\n",
    "puts(\"'a' contains **#{a}**, is a: #{a.class}\")\n"
   ]
  },
  {
   "cell_type": "code",
   "execution_count": null,
   "metadata": {},
   "outputs": [],
   "source": [
    "#a.public_methods\n",
    "list = a.split()\n",
    "puts(list)\n",
    "list[1]\n",
    "\n",
    "index = 0 \n",
    "for word in list do\n",
    "  puts(\"__#{word}__ is index #{index} in the list\")\n",
    "  index += 1\n",
    "end"
   ]
  },
  {
   "cell_type": "code",
   "execution_count": null,
   "metadata": {},
   "outputs": [],
   "source": [
    "dictionary = { \"one\" => \"eins\", \"two\" => \"zwei\" }\n",
    "puts dictionary.size\n",
    "dictionary[\"five\"] = \"pump\"\n",
    "puts dictionary.size\n",
    "puts dictionary"
   ]
  },
  {
   "cell_type": "code",
   "execution_count": null,
   "metadata": {},
   "outputs": [],
   "source": [
    "dictionary.size"
   ]
  },
  {
   "cell_type": "code",
   "execution_count": null,
   "metadata": {},
   "outputs": [],
   "source": []
  }
 ],
 "metadata": {
  "kernelspec": {
   "display_name": "Ruby 2.5.1",
   "language": "ruby",
   "name": "ruby"
  },
  "language_info": {
   "file_extension": ".rb",
   "mimetype": "application/x-ruby",
   "name": "ruby",
   "version": "2.5.1"
  }
 },
 "nbformat": 4,
 "nbformat_minor": 2
}
