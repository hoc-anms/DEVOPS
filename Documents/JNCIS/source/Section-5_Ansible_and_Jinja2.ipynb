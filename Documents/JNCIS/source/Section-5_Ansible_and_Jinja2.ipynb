{
 "cells": [
  {
   "cell_type": "markdown",
   "metadata": {},
   "source": [
    "# Jinja2 and Ansible"
   ]
  },
  {
   "cell_type": "markdown",
   "metadata": {},
   "source": [
    "This notebook demonstrates how jinja2 templates use loops and flow control and is combined with variables to generate expanded text.  Our example jinja2 template is loaded from a configuration file, as are the variables, which are stored in YAML format.\n",
    "\n",
    "We are going to be generating a very simple chunk of logical-systems configuration.\n",
    "\n",
    "Once we have worked through jinja2 syntax, we will run the ansible playbook: ```Section-5_ansible/apply_j2_config.yml``` to show it in action.  Let's take a quick look at those text files:"
   ]
  },
  {
   "cell_type": "code",
   "execution_count": 1,
   "metadata": {},
   "outputs": [
    {
     "name": "stdout",
     "output_type": "stream",
     "text": [
      "variables:\n",
      "  systems:\n",
      "    RTR1:\n",
      "      asn: 65534\n",
      "      ibgp:\n",
      "      - {ip: 192.168.1.2, router: rtr2}\n",
      "      - {ip: 192.168.1.3, router: rtr3}\n",
      "      - {ip: 192.168.1.5, router: rtr6}\n",
      "      - {ip: 192.168.1.6, router: rtr7}\n"
     ]
    }
   ],
   "source": [
    "# Variables\n",
    "!cat ./Section-5_ansible/group_vars/VMX.yml"
   ]
  },
  {
   "cell_type": "markdown",
   "metadata": {},
   "source": [
    "As you can see we have a nested dictionary in YAML format, containing all the variables we will later combine with a Jinja2 template.  Now let's look at the template:"
   ]
  },
  {
   "cell_type": "code",
   "execution_count": 2,
   "metadata": {},
   "outputs": [
    {
     "name": "stdout",
     "output_type": "stream",
     "text": [
      "logical-systems { {% for system in systems %}\n",
      "    {{ system }} {\n",
      "        routing-options {\n",
      "            autonomous-system {{ systems[system].asn }};\n",
      "        }\n",
      "        protocols { {% if systems[system].ibgp %}\n",
      "            bgp {\n",
      "                group ibgp {\n",
      "                    type internal; {% for neighbour in systems[system].ibgp %}\n",
      "                    neighbor {{ neighbour.ip }} { \n",
      "                        description {{ neighbour.router|upper }}; \n",
      "                    } {% endfor %}\n",
      "                }\n",
      "            } {% endif %}\n",
      "        }\n",
      "    } {% endfor %}\n",
      "}"
     ]
    }
   ],
   "source": [
    "# Jinja2 Template\n",
    "!cat ./Section-5_ansible/logical_systems.j2"
   ]
  },
  {
   "cell_type": "markdown",
   "metadata": {},
   "source": [
    "Examining some of the aspects of Jinja2:<ul>\n",
    "    <li>Flow control and loop structures are enclosed in ```{% %}```.</li>\n",
    "    <li>Variables are substituted by enclosing the variable name in ```{{  }}```.</li>\n",
    "    <li>When accessing elements in a nested data structure the syntax is similar to python i.e. you enclose the item you are querying in ```[ ]```</li>\n",
    "    <li>Custom filters e.g. ```|upper``` in this example can be used to transform data.  When working with strings you have filters available that are similar to string methods in Python</li>\n",
    "    <li>You close for loops with ```{% endfor %}```</li>\n",
    "    <li>You close if statements with ```{% endif %}```</li></ul>\n",
    "    \n",
    "    \n"
   ]
  },
  {
   "cell_type": "markdown",
   "metadata": {},
   "source": [
    "Now lets put this in to practice.  We are going to use functions from the jinja2 and yaml libraries to load our templates and variables into a script and render them together to output a finished document:\n",
    "\n",
    "In the example below, we perform the following steps:\n",
    "<ol>\n",
    "    <li>Import the jinja2 and yaml libraries</li>\n",
    "    <li>Load the jinja2 template from a text file</li>\n",
    "    <li>Instantiate a template object from the template text using the Template() class from the Jinja2 library</li>\n",
    "    <li>Load variables from a YAML text file</li>\n",
    "    <li>Render the template with the variables we obtained from the YAML file</li>\n",
    "</ol>"
   ]
  },
  {
   "cell_type": "code",
   "execution_count": 1,
   "metadata": {},
   "outputs": [
    {
     "ename": "TypeError",
     "evalue": "load() missing 1 required positional argument: 'Loader'",
     "output_type": "error",
     "traceback": [
      "\u001b[0;31m---------------------------------------------------------------------------\u001b[0m",
      "\u001b[0;31mTypeError\u001b[0m                                 Traceback (most recent call last)",
      "\u001b[1;32m/Users/hocpv/Works/Practice/DEVOPS/Documents/JNCIS/source/Section-5_Ansible_and_Jinja2.ipynb Cell 8\u001b[0m in \u001b[0;36m<cell line: 4>\u001b[0;34m()\u001b[0m\n\u001b[1;32m      <a href='vscode-notebook-cell:/Users/hocpv/Works/Practice/DEVOPS/Documents/JNCIS/source/Section-5_Ansible_and_Jinja2.ipynb#X10sZmlsZQ%3D%3D?line=1'>2</a>\u001b[0m \u001b[39mimport\u001b[39;00m \u001b[39myaml\u001b[39;00m\n\u001b[1;32m      <a href='vscode-notebook-cell:/Users/hocpv/Works/Practice/DEVOPS/Documents/JNCIS/source/Section-5_Ansible_and_Jinja2.ipynb#X10sZmlsZQ%3D%3D?line=3'>4</a>\u001b[0m \u001b[39mwith\u001b[39;00m \u001b[39mopen\u001b[39m(\u001b[39m'\u001b[39m\u001b[39m./Section-5_ansible/group_vars/VMX.yml\u001b[39m\u001b[39m'\u001b[39m) \u001b[39mas\u001b[39;00m fh:\n\u001b[0;32m----> <a href='vscode-notebook-cell:/Users/hocpv/Works/Practice/DEVOPS/Documents/JNCIS/source/Section-5_Ansible_and_Jinja2.ipynb#X10sZmlsZQ%3D%3D?line=4'>5</a>\u001b[0m     yaml_vars \u001b[39m=\u001b[39m yaml\u001b[39m.\u001b[39;49mload(fh\u001b[39m.\u001b[39;49mread())\n\u001b[1;32m      <a href='vscode-notebook-cell:/Users/hocpv/Works/Practice/DEVOPS/Documents/JNCIS/source/Section-5_Ansible_and_Jinja2.ipynb#X10sZmlsZQ%3D%3D?line=6'>7</a>\u001b[0m \u001b[39mwith\u001b[39;00m \u001b[39mopen\u001b[39m(\u001b[39m'\u001b[39m\u001b[39m./Section-5_ansible/logical_systems.j2\u001b[39m\u001b[39m'\u001b[39m) \u001b[39mas\u001b[39;00m fh:\n\u001b[1;32m      <a href='vscode-notebook-cell:/Users/hocpv/Works/Practice/DEVOPS/Documents/JNCIS/source/Section-5_Ansible_and_Jinja2.ipynb#X10sZmlsZQ%3D%3D?line=7'>8</a>\u001b[0m     jinja2_template \u001b[39m=\u001b[39m jinja2\u001b[39m.\u001b[39mTemplate(fh\u001b[39m.\u001b[39mread())\n",
      "\u001b[0;31mTypeError\u001b[0m: load() missing 1 required positional argument: 'Loader'"
     ]
    }
   ],
   "source": [
    "import jinja2\n",
    "import yaml\n",
    "\n",
    "with open('./Section-5_ansible/group_vars/VMX.yml') as fh:\n",
    "    yaml_vars = yaml.load(fh.read())\n",
    "    \n",
    "with open('./Section-5_ansible/logical_systems.j2') as fh:\n",
    "    jinja2_template = jinja2.Template(fh.read())\n",
    "\n",
    "\n",
    "print(jinja2_template.render(yaml_vars['variables']))"
   ]
  },
  {
   "cell_type": "markdown",
   "metadata": {},
   "source": [
    "In the next section we will use Ansible to push configuration to a Juniper device using these variables and templates."
   ]
  },
  {
   "cell_type": "code",
   "execution_count": null,
   "metadata": {},
   "outputs": [],
   "source": []
  }
 ],
 "metadata": {
  "kernelspec": {
   "display_name": "Python 3.9.12 ('base')",
   "language": "python",
   "name": "python3"
  },
  "language_info": {
   "codemirror_mode": {
    "name": "ipython",
    "version": 3
   },
   "file_extension": ".py",
   "mimetype": "text/x-python",
   "name": "python",
   "nbconvert_exporter": "python",
   "pygments_lexer": "ipython3",
   "version": "3.9.12"
  },
  "vscode": {
   "interpreter": {
    "hash": "40d3a090f54c6569ab1632332b64b2c03c39dcf918b08424e98f38b5ae0af88f"
   }
  }
 },
 "nbformat": 4,
 "nbformat_minor": 2
}
